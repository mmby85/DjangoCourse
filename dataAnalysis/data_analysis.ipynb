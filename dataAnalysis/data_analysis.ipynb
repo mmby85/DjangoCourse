{
 "cells": [
  {
   "cell_type": "code",
   "execution_count": 1,
   "metadata": {},
   "outputs": [],
   "source": [
    "import pandas as pd\n",
    "import matplotlib.pyplot as plt\n",
    "import seaborn as sns\n",
    "sns.color_palette(\"viridis\", as_cmap=True)\n",
    "sns.set_palette(\"viridis\")\n"
   ]
  },
  {
   "cell_type": "code",
   "execution_count": 2,
   "metadata": {},
   "outputs": [
    {
     "data": {
      "text/html": [
       "<div>\n",
       "<style scoped>\n",
       "    .dataframe tbody tr th:only-of-type {\n",
       "        vertical-align: middle;\n",
       "    }\n",
       "\n",
       "    .dataframe tbody tr th {\n",
       "        vertical-align: top;\n",
       "    }\n",
       "\n",
       "    .dataframe thead th {\n",
       "        text-align: right;\n",
       "    }\n",
       "</style>\n",
       "<table border=\"1\" class=\"dataframe\">\n",
       "  <thead>\n",
       "    <tr style=\"text-align: right;\">\n",
       "      <th></th>\n",
       "      <th>brand</th>\n",
       "      <th>model</th>\n",
       "      <th>screen_size</th>\n",
       "      <th>color</th>\n",
       "      <th>harddisk</th>\n",
       "      <th>cpu</th>\n",
       "      <th>ram</th>\n",
       "      <th>OS</th>\n",
       "      <th>special_features</th>\n",
       "      <th>graphics</th>\n",
       "      <th>graphics_coprocessor</th>\n",
       "      <th>cpu_speed</th>\n",
       "      <th>rating</th>\n",
       "      <th>price</th>\n",
       "    </tr>\n",
       "  </thead>\n",
       "  <tbody>\n",
       "    <tr>\n",
       "      <th>0</th>\n",
       "      <td>ROKC</td>\n",
       "      <td>NaN</td>\n",
       "      <td>14 Inches</td>\n",
       "      <td>Blue</td>\n",
       "      <td>1000 GB</td>\n",
       "      <td>Intel Core i7</td>\n",
       "      <td>8 GB</td>\n",
       "      <td>Windows 11</td>\n",
       "      <td>NaN</td>\n",
       "      <td>Integrated</td>\n",
       "      <td>Intel</td>\n",
       "      <td>1.2 GHz</td>\n",
       "      <td>NaN</td>\n",
       "      <td>$589.99</td>\n",
       "    </tr>\n",
       "    <tr>\n",
       "      <th>1</th>\n",
       "      <td>HP</td>\n",
       "      <td>NaN</td>\n",
       "      <td>15.6 Inches</td>\n",
       "      <td>Silver</td>\n",
       "      <td>1000 GB</td>\n",
       "      <td>Intel Core i5</td>\n",
       "      <td>64 GB</td>\n",
       "      <td>Windows 11 Pro</td>\n",
       "      <td>Backlit Keyboard</td>\n",
       "      <td>Integrated</td>\n",
       "      <td>Intel</td>\n",
       "      <td>NaN</td>\n",
       "      <td>4.5</td>\n",
       "      <td>$999.99</td>\n",
       "    </tr>\n",
       "    <tr>\n",
       "      <th>2</th>\n",
       "      <td>MSI</td>\n",
       "      <td>Vector GP66 12UGS-267</td>\n",
       "      <td>15.66 Inches</td>\n",
       "      <td>Core Black</td>\n",
       "      <td>NaN</td>\n",
       "      <td>Intel Core i9</td>\n",
       "      <td>32 GB</td>\n",
       "      <td>Windows 11 Home</td>\n",
       "      <td>NaN</td>\n",
       "      <td>Dedicated</td>\n",
       "      <td>NaN</td>\n",
       "      <td>1.8 GHz</td>\n",
       "      <td>5.0</td>\n",
       "      <td>$1,599.00</td>\n",
       "    </tr>\n",
       "    <tr>\n",
       "      <th>3</th>\n",
       "      <td>Apple</td>\n",
       "      <td>MacBook Air</td>\n",
       "      <td>13.3 Inches</td>\n",
       "      <td>Silver</td>\n",
       "      <td>256 GB</td>\n",
       "      <td>Unknown</td>\n",
       "      <td>8 GB</td>\n",
       "      <td>Mac OS</td>\n",
       "      <td>Backlit Keyboard</td>\n",
       "      <td>Integrated</td>\n",
       "      <td>NaN</td>\n",
       "      <td>NaN</td>\n",
       "      <td>4.8</td>\n",
       "      <td>$689.99</td>\n",
       "    </tr>\n",
       "    <tr>\n",
       "      <th>4</th>\n",
       "      <td>Apple</td>\n",
       "      <td>MacBook Air</td>\n",
       "      <td>15.3 Inches</td>\n",
       "      <td>Midnight</td>\n",
       "      <td>256 GB</td>\n",
       "      <td>Unknown</td>\n",
       "      <td>8 GB</td>\n",
       "      <td>Mac OS</td>\n",
       "      <td>NaN</td>\n",
       "      <td>Integrated</td>\n",
       "      <td>NaN</td>\n",
       "      <td>NaN</td>\n",
       "      <td>4.8</td>\n",
       "      <td>$1,144.48</td>\n",
       "    </tr>\n",
       "    <tr>\n",
       "      <th>...</th>\n",
       "      <td>...</td>\n",
       "      <td>...</td>\n",
       "      <td>...</td>\n",
       "      <td>...</td>\n",
       "      <td>...</td>\n",
       "      <td>...</td>\n",
       "      <td>...</td>\n",
       "      <td>...</td>\n",
       "      <td>...</td>\n",
       "      <td>...</td>\n",
       "      <td>...</td>\n",
       "      <td>...</td>\n",
       "      <td>...</td>\n",
       "      <td>...</td>\n",
       "    </tr>\n",
       "    <tr>\n",
       "      <th>4441</th>\n",
       "      <td>MSI</td>\n",
       "      <td>Stealth GS66 12UGS-025</td>\n",
       "      <td>15.6 Inches</td>\n",
       "      <td>Core Black</td>\n",
       "      <td>NaN</td>\n",
       "      <td>Intel Core i9</td>\n",
       "      <td>32 GB</td>\n",
       "      <td>Windows 11 Home</td>\n",
       "      <td>NaN</td>\n",
       "      <td>Dedicated</td>\n",
       "      <td>NVIDIA GeForce RTX 3070</td>\n",
       "      <td>1.8 GHz</td>\n",
       "      <td>1.0</td>\n",
       "      <td>$1,699.00</td>\n",
       "    </tr>\n",
       "    <tr>\n",
       "      <th>4442</th>\n",
       "      <td>ROKC</td>\n",
       "      <td>NaN</td>\n",
       "      <td>14 Inches</td>\n",
       "      <td>Blue</td>\n",
       "      <td>1000 GB</td>\n",
       "      <td>Intel Core i7</td>\n",
       "      <td>8 GB</td>\n",
       "      <td>Windows 11</td>\n",
       "      <td>NaN</td>\n",
       "      <td>Integrated</td>\n",
       "      <td>Intel</td>\n",
       "      <td>1.2 GHz</td>\n",
       "      <td>NaN</td>\n",
       "      <td>$589.99</td>\n",
       "    </tr>\n",
       "    <tr>\n",
       "      <th>4443</th>\n",
       "      <td>Dell</td>\n",
       "      <td>Inspiron 3511 Laptop</td>\n",
       "      <td>15.6 Inches</td>\n",
       "      <td>Black</td>\n",
       "      <td>512 GB</td>\n",
       "      <td>Core i3</td>\n",
       "      <td>8 GB</td>\n",
       "      <td>Windows 10 Home</td>\n",
       "      <td>Wifi &amp; Bluetooth</td>\n",
       "      <td>Integrated</td>\n",
       "      <td>NaN</td>\n",
       "      <td>NaN</td>\n",
       "      <td>NaN</td>\n",
       "      <td>$591.99</td>\n",
       "    </tr>\n",
       "    <tr>\n",
       "      <th>4444</th>\n",
       "      <td>Dell</td>\n",
       "      <td>Latitude 3420 Laptop</td>\n",
       "      <td>14 Inches</td>\n",
       "      <td>NaN</td>\n",
       "      <td>512 GB</td>\n",
       "      <td>Core i5</td>\n",
       "      <td>8 GB</td>\n",
       "      <td>Windows 10 Pro</td>\n",
       "      <td>NaN</td>\n",
       "      <td>Integrated</td>\n",
       "      <td>Intel Integrated Graphics</td>\n",
       "      <td>0.9 GHz</td>\n",
       "      <td>NaN</td>\n",
       "      <td>$1,771.99</td>\n",
       "    </tr>\n",
       "    <tr>\n",
       "      <th>4445</th>\n",
       "      <td>Dell</td>\n",
       "      <td>Latitude 5430 Laptop</td>\n",
       "      <td>14 Inches</td>\n",
       "      <td>Black</td>\n",
       "      <td>256 GB</td>\n",
       "      <td>Core i5</td>\n",
       "      <td>NaN</td>\n",
       "      <td>Windows 11 Pro</td>\n",
       "      <td>NaN</td>\n",
       "      <td>Integrated</td>\n",
       "      <td>Intel Integrated Graphics</td>\n",
       "      <td>3.3 GHz</td>\n",
       "      <td>NaN</td>\n",
       "      <td>$938.99</td>\n",
       "    </tr>\n",
       "  </tbody>\n",
       "</table>\n",
       "<p>4446 rows × 14 columns</p>\n",
       "</div>"
      ],
      "text/plain": [
       "      brand                   model   screen_size       color harddisk  \\\n",
       "0      ROKC                     NaN     14 Inches        Blue  1000 GB   \n",
       "1        HP                     NaN   15.6 Inches      Silver  1000 GB   \n",
       "2       MSI   Vector GP66 12UGS-267  15.66 Inches  Core Black      NaN   \n",
       "3     Apple             MacBook Air   13.3 Inches      Silver   256 GB   \n",
       "4     Apple             MacBook Air   15.3 Inches    Midnight   256 GB   \n",
       "...     ...                     ...           ...         ...      ...   \n",
       "4441    MSI  Stealth GS66 12UGS-025   15.6 Inches  Core Black      NaN   \n",
       "4442   ROKC                     NaN     14 Inches        Blue  1000 GB   \n",
       "4443   Dell    Inspiron 3511 Laptop   15.6 Inches       Black   512 GB   \n",
       "4444   Dell    Latitude 3420 Laptop     14 Inches         NaN   512 GB   \n",
       "4445   Dell    Latitude 5430 Laptop     14 Inches       Black   256 GB   \n",
       "\n",
       "                cpu    ram               OS  special_features    graphics  \\\n",
       "0     Intel Core i7   8 GB       Windows 11               NaN  Integrated   \n",
       "1     Intel Core i5  64 GB   Windows 11 Pro  Backlit Keyboard  Integrated   \n",
       "2     Intel Core i9  32 GB  Windows 11 Home               NaN   Dedicated   \n",
       "3           Unknown   8 GB           Mac OS  Backlit Keyboard  Integrated   \n",
       "4           Unknown   8 GB           Mac OS               NaN  Integrated   \n",
       "...             ...    ...              ...               ...         ...   \n",
       "4441  Intel Core i9  32 GB  Windows 11 Home               NaN   Dedicated   \n",
       "4442  Intel Core i7   8 GB       Windows 11               NaN  Integrated   \n",
       "4443        Core i3   8 GB  Windows 10 Home  Wifi & Bluetooth  Integrated   \n",
       "4444        Core i5   8 GB   Windows 10 Pro               NaN  Integrated   \n",
       "4445        Core i5    NaN   Windows 11 Pro               NaN  Integrated   \n",
       "\n",
       "           graphics_coprocessor cpu_speed  rating       price  \n",
       "0                         Intel   1.2 GHz     NaN    $589.99   \n",
       "1                         Intel       NaN     4.5    $999.99   \n",
       "2                           NaN   1.8 GHz     5.0  $1,599.00   \n",
       "3                           NaN       NaN     4.8    $689.99   \n",
       "4                           NaN       NaN     4.8  $1,144.48   \n",
       "...                         ...       ...     ...         ...  \n",
       "4441    NVIDIA GeForce RTX 3070   1.8 GHz     1.0  $1,699.00   \n",
       "4442                      Intel   1.2 GHz     NaN    $589.99   \n",
       "4443                        NaN       NaN     NaN    $591.99   \n",
       "4444  Intel Integrated Graphics   0.9 GHz     NaN  $1,771.99   \n",
       "4445  Intel Integrated Graphics   3.3 GHz     NaN    $938.99   \n",
       "\n",
       "[4446 rows x 14 columns]"
      ]
     },
     "execution_count": 2,
     "metadata": {},
     "output_type": "execute_result"
    }
   ],
   "source": [
    "data = pd.read_csv(\"amazon_laptop_prices_v01.csv\")\n",
    "data"
   ]
  },
  {
   "cell_type": "code",
   "execution_count": 3,
   "metadata": {},
   "outputs": [
    {
     "name": "stdout",
     "output_type": "stream",
     "text": [
      "<class 'pandas.core.frame.DataFrame'>\n",
      "RangeIndex: 4446 entries, 0 to 4445\n",
      "Data columns (total 14 columns):\n",
      " #   Column                Non-Null Count  Dtype  \n",
      "---  ------                --------------  -----  \n",
      " 0   brand                 4446 non-null   object \n",
      " 1   model                 3282 non-null   object \n",
      " 2   screen_size           4417 non-null   object \n",
      " 3   color                 3867 non-null   object \n",
      " 4   harddisk              3870 non-null   object \n",
      " 5   cpu                   4346 non-null   object \n",
      " 6   ram                   4385 non-null   object \n",
      " 7   OS                    4420 non-null   object \n",
      " 8   special_features      2054 non-null   object \n",
      " 9   graphics              4381 non-null   object \n",
      " 10  graphics_coprocessor  2574 non-null   object \n",
      " 11  cpu_speed             1520 non-null   object \n",
      " 12  rating                2174 non-null   float64\n",
      " 13  price                 4441 non-null   object \n",
      "dtypes: float64(1), object(13)\n",
      "memory usage: 486.4+ KB\n"
     ]
    }
   ],
   "source": [
    "data.info()"
   ]
  },
  {
   "cell_type": "code",
   "execution_count": 4,
   "metadata": {},
   "outputs": [
    {
     "data": {
      "text/html": [
       "<div>\n",
       "<style scoped>\n",
       "    .dataframe tbody tr th:only-of-type {\n",
       "        vertical-align: middle;\n",
       "    }\n",
       "\n",
       "    .dataframe tbody tr th {\n",
       "        vertical-align: top;\n",
       "    }\n",
       "\n",
       "    .dataframe thead th {\n",
       "        text-align: right;\n",
       "    }\n",
       "</style>\n",
       "<table border=\"1\" class=\"dataframe\">\n",
       "  <thead>\n",
       "    <tr style=\"text-align: right;\">\n",
       "      <th></th>\n",
       "      <th>rating</th>\n",
       "    </tr>\n",
       "  </thead>\n",
       "  <tbody>\n",
       "    <tr>\n",
       "      <th>count</th>\n",
       "      <td>2174.000000</td>\n",
       "    </tr>\n",
       "    <tr>\n",
       "      <th>mean</th>\n",
       "      <td>4.086891</td>\n",
       "    </tr>\n",
       "    <tr>\n",
       "      <th>std</th>\n",
       "      <td>1.165337</td>\n",
       "    </tr>\n",
       "    <tr>\n",
       "      <th>min</th>\n",
       "      <td>1.000000</td>\n",
       "    </tr>\n",
       "    <tr>\n",
       "      <th>25%</th>\n",
       "      <td>4.000000</td>\n",
       "    </tr>\n",
       "    <tr>\n",
       "      <th>50%</th>\n",
       "      <td>4.500000</td>\n",
       "    </tr>\n",
       "    <tr>\n",
       "      <th>75%</th>\n",
       "      <td>5.000000</td>\n",
       "    </tr>\n",
       "    <tr>\n",
       "      <th>max</th>\n",
       "      <td>5.000000</td>\n",
       "    </tr>\n",
       "  </tbody>\n",
       "</table>\n",
       "</div>"
      ],
      "text/plain": [
       "            rating\n",
       "count  2174.000000\n",
       "mean      4.086891\n",
       "std       1.165337\n",
       "min       1.000000\n",
       "25%       4.000000\n",
       "50%       4.500000\n",
       "75%       5.000000\n",
       "max       5.000000"
      ]
     },
     "execution_count": 4,
     "metadata": {},
     "output_type": "execute_result"
    }
   ],
   "source": [
    "data.describe()"
   ]
  },
  {
   "cell_type": "code",
   "execution_count": 5,
   "metadata": {},
   "outputs": [
    {
     "data": {
      "text/html": [
       "<div>\n",
       "<style scoped>\n",
       "    .dataframe tbody tr th:only-of-type {\n",
       "        vertical-align: middle;\n",
       "    }\n",
       "\n",
       "    .dataframe tbody tr th {\n",
       "        vertical-align: top;\n",
       "    }\n",
       "\n",
       "    .dataframe thead th {\n",
       "        text-align: right;\n",
       "    }\n",
       "</style>\n",
       "<table border=\"1\" class=\"dataframe\">\n",
       "  <thead>\n",
       "    <tr style=\"text-align: right;\">\n",
       "      <th></th>\n",
       "      <th>brand</th>\n",
       "      <th>model</th>\n",
       "      <th>screen_size</th>\n",
       "      <th>color</th>\n",
       "      <th>harddisk</th>\n",
       "      <th>cpu</th>\n",
       "      <th>ram</th>\n",
       "      <th>OS</th>\n",
       "      <th>special_features</th>\n",
       "      <th>graphics</th>\n",
       "      <th>graphics_coprocessor</th>\n",
       "      <th>cpu_speed</th>\n",
       "      <th>price</th>\n",
       "    </tr>\n",
       "  </thead>\n",
       "  <tbody>\n",
       "    <tr>\n",
       "      <th>count</th>\n",
       "      <td>4446</td>\n",
       "      <td>3282</td>\n",
       "      <td>4417</td>\n",
       "      <td>3867</td>\n",
       "      <td>3870</td>\n",
       "      <td>4346</td>\n",
       "      <td>4385</td>\n",
       "      <td>4420</td>\n",
       "      <td>2054</td>\n",
       "      <td>4381</td>\n",
       "      <td>2574</td>\n",
       "      <td>1520</td>\n",
       "      <td>4441</td>\n",
       "    </tr>\n",
       "    <tr>\n",
       "      <th>unique</th>\n",
       "      <td>50</td>\n",
       "      <td>1083</td>\n",
       "      <td>35</td>\n",
       "      <td>187</td>\n",
       "      <td>41</td>\n",
       "      <td>141</td>\n",
       "      <td>18</td>\n",
       "      <td>49</td>\n",
       "      <td>188</td>\n",
       "      <td>109</td>\n",
       "      <td>209</td>\n",
       "      <td>60</td>\n",
       "      <td>1858</td>\n",
       "    </tr>\n",
       "    <tr>\n",
       "      <th>top</th>\n",
       "      <td>Dell</td>\n",
       "      <td>Vector GP66 12UGS-267</td>\n",
       "      <td>15.6 Inches</td>\n",
       "      <td>Black</td>\n",
       "      <td>1000 GB</td>\n",
       "      <td>Core i7</td>\n",
       "      <td>16 GB</td>\n",
       "      <td>Windows 11</td>\n",
       "      <td>Wifi &amp; Bluetooth</td>\n",
       "      <td>Integrated</td>\n",
       "      <td>Intel</td>\n",
       "      <td>1.1 GHz</td>\n",
       "      <td>$389.99</td>\n",
       "    </tr>\n",
       "    <tr>\n",
       "      <th>freq</th>\n",
       "      <td>1581</td>\n",
       "      <td>196</td>\n",
       "      <td>1995</td>\n",
       "      <td>1172</td>\n",
       "      <td>1334</td>\n",
       "      <td>828</td>\n",
       "      <td>1344</td>\n",
       "      <td>1199</td>\n",
       "      <td>815</td>\n",
       "      <td>3021</td>\n",
       "      <td>1348</td>\n",
       "      <td>509</td>\n",
       "      <td>315</td>\n",
       "    </tr>\n",
       "  </tbody>\n",
       "</table>\n",
       "</div>"
      ],
      "text/plain": [
       "       brand                  model  screen_size  color harddisk      cpu  \\\n",
       "count   4446                   3282         4417   3867     3870     4346   \n",
       "unique    50                   1083           35    187       41      141   \n",
       "top     Dell  Vector GP66 12UGS-267  15.6 Inches  Black  1000 GB  Core i7   \n",
       "freq    1581                    196         1995   1172     1334      828   \n",
       "\n",
       "          ram          OS  special_features    graphics graphics_coprocessor  \\\n",
       "count    4385        4420              2054        4381                 2574   \n",
       "unique     18          49               188         109                  209   \n",
       "top     16 GB  Windows 11  Wifi & Bluetooth  Integrated                Intel   \n",
       "freq     1344        1199               815        3021                 1348   \n",
       "\n",
       "       cpu_speed     price  \n",
       "count       1520      4441  \n",
       "unique        60      1858  \n",
       "top      1.1 GHz  $389.99   \n",
       "freq         509       315  "
      ]
     },
     "execution_count": 5,
     "metadata": {},
     "output_type": "execute_result"
    }
   ],
   "source": [
    "data.describe(include=\"object\")"
   ]
  },
  {
   "cell_type": "code",
   "execution_count": 6,
   "metadata": {},
   "outputs": [
    {
     "data": {
      "text/html": [
       "<div>\n",
       "<style scoped>\n",
       "    .dataframe tbody tr th:only-of-type {\n",
       "        vertical-align: middle;\n",
       "    }\n",
       "\n",
       "    .dataframe tbody tr th {\n",
       "        vertical-align: top;\n",
       "    }\n",
       "\n",
       "    .dataframe thead th {\n",
       "        text-align: right;\n",
       "    }\n",
       "</style>\n",
       "<table border=\"1\" class=\"dataframe\">\n",
       "  <thead>\n",
       "    <tr style=\"text-align: right;\">\n",
       "      <th></th>\n",
       "      <th>brand</th>\n",
       "      <th>count</th>\n",
       "    </tr>\n",
       "  </thead>\n",
       "  <tbody>\n",
       "    <tr>\n",
       "      <th>0</th>\n",
       "      <td>Dell</td>\n",
       "      <td>1581</td>\n",
       "    </tr>\n",
       "    <tr>\n",
       "      <th>1</th>\n",
       "      <td>HP</td>\n",
       "      <td>804</td>\n",
       "    </tr>\n",
       "    <tr>\n",
       "      <th>2</th>\n",
       "      <td>ROKC</td>\n",
       "      <td>637</td>\n",
       "    </tr>\n",
       "    <tr>\n",
       "      <th>3</th>\n",
       "      <td>MSI</td>\n",
       "      <td>473</td>\n",
       "    </tr>\n",
       "    <tr>\n",
       "      <th>4</th>\n",
       "      <td>Lenovo</td>\n",
       "      <td>308</td>\n",
       "    </tr>\n",
       "    <tr>\n",
       "      <th>5</th>\n",
       "      <td>ASUS</td>\n",
       "      <td>160</td>\n",
       "    </tr>\n",
       "    <tr>\n",
       "      <th>6</th>\n",
       "      <td>DELL</td>\n",
       "      <td>147</td>\n",
       "    </tr>\n",
       "    <tr>\n",
       "      <th>7</th>\n",
       "      <td>acer</td>\n",
       "      <td>108</td>\n",
       "    </tr>\n",
       "    <tr>\n",
       "      <th>8</th>\n",
       "      <td>LG</td>\n",
       "      <td>39</td>\n",
       "    </tr>\n",
       "    <tr>\n",
       "      <th>9</th>\n",
       "      <td>Apple</td>\n",
       "      <td>29</td>\n",
       "    </tr>\n",
       "  </tbody>\n",
       "</table>\n",
       "</div>"
      ],
      "text/plain": [
       "    brand  count\n",
       "0    Dell   1581\n",
       "1      HP    804\n",
       "2    ROKC    637\n",
       "3     MSI    473\n",
       "4  Lenovo    308\n",
       "5    ASUS    160\n",
       "6    DELL    147\n",
       "7    acer    108\n",
       "8      LG     39\n",
       "9   Apple     29"
      ]
     },
     "execution_count": 6,
     "metadata": {},
     "output_type": "execute_result"
    }
   ],
   "source": [
    "data.brand.value_counts()[:10].reset_index()"
   ]
  },
  {
   "cell_type": "code",
   "execution_count": 7,
   "metadata": {},
   "outputs": [
    {
     "name": "stderr",
     "output_type": "stream",
     "text": [
      "/tmp/ipykernel_13979/4214319395.py:2: FutureWarning: \n",
      "\n",
      "Passing `palette` without assigning `hue` is deprecated and will be removed in v0.14.0. Assign the `x` variable to `hue` and set `legend=False` for the same effect.\n",
      "\n",
      "  sns.barplot(data.brand.value_counts()[:10], palette=\"hls\")\n"
     ]
    },
    {
     "data": {
      "text/plain": [
       "([0, 1, 2, 3, 4, 5, 6, 7, 8, 9],\n",
       " [Text(0, 0, 'Dell'),\n",
       "  Text(1, 0, 'HP'),\n",
       "  Text(2, 0, 'ROKC'),\n",
       "  Text(3, 0, 'MSI'),\n",
       "  Text(4, 0, 'Lenovo'),\n",
       "  Text(5, 0, 'ASUS'),\n",
       "  Text(6, 0, 'DELL'),\n",
       "  Text(7, 0, 'acer'),\n",
       "  Text(8, 0, 'LG'),\n",
       "  Text(9, 0, 'Apple')])"
      ]
     },
     "execution_count": 7,
     "metadata": {},
     "output_type": "execute_result"
    },
    {
     "data": {
      "image/png": "[encoded data removed]",
      "text/plain": [
       "<Figure size 640x480 with 1 Axes>"
      ]
     },
     "metadata": {},
     "output_type": "display_data"
    }
   ],
   "source": [
    "# data.brand.value_counts()[:10].plot.bar()\n",
    "sns.barplot(data.brand.value_counts()[:10], palette=\"hls\")\n",
    "plt.xticks(rotation=45)\n"
   ]
  },
  {
   "cell_type": "code",
   "execution_count": 8,
   "metadata": {},
   "outputs": [
    {
     "name": "stderr",
     "output_type": "stream",
     "text": [
      "/tmp/ipykernel_13979/140848893.py:2: FutureWarning: \n",
      "\n",
      "Passing `palette` without assigning `hue` is deprecated and will be removed in v0.14.0. Assign the `x` variable to `hue` and set `legend=False` for the same effect.\n",
      "\n",
      "  sns.barplot(data[cols].value_counts()[:10], palette=\"hls\")\n"
     ]
    },
    {
     "data": {
      "image/png": "[encoded data removed]",
      "text/plain": [
       "<Figure size 640x480 with 1 Axes>"
      ]
     },
     "metadata": {},
     "output_type": "display_data"
    },
    {
     "name": "stderr",
     "output_type": "stream",
     "text": [
      "/tmp/ipykernel_13979/140848893.py:2: FutureWarning: \n",
      "\n",
      "Passing `palette` without assigning `hue` is deprecated and will be removed in v0.14.0. Assign the `x` variable to `hue` and set `legend=False` for the same effect.\n",
      "\n",
      "  sns.barplot(data[cols].value_counts()[:10], palette=\"hls\")\n"
     ]
    },
    {
     "data": {
      "image/png": "[encoded data removed]",
      "text/plain": [
       "<Figure size 640x480 with 1 Axes>"
      ]
     },
     "metadata": {},
     "output_type": "display_data"
    },
    {
     "name": "stderr",
     "output_type": "stream",
     "text": [
      "/tmp/ipykernel_13979/140848893.py:2: FutureWarning: \n",
      "\n",
      "Passing `palette` without assigning `hue` is deprecated and will be removed in v0.14.0. Assign the `x` variable to `hue` and set `legend=False` for the same effect.\n",
      "\n",
      "  sns.barplot(data[cols].value_counts()[:10], palette=\"hls\")\n"
     ]
    },
    {
     "data": {
      "image/png": "[encoded data removed]",
      "text/plain": [
       "<Figure size 640x480 with 1 Axes>"
      ]
     },
     "metadata": {},
     "output_type": "display_data"
    }
   ],
   "source": [
    "for cols in [\"harddisk\",\"cpu\",\"ram\"] :\n",
    "    sns.barplot(data[cols].value_counts()[:10], palette=\"hls\")\n",
    "    plt.xticks(rotation=45)\n",
    "    plt.show()\n"
   ]
  },
  {
   "cell_type": "code",
   "execution_count": 9,
   "metadata": {},
   "outputs": [],
   "source": [
    "data['price'] = data['price'].fillna(\"0\").map(lambda x: float(x.replace(\"$\" ,\"\").replace(\",\" , \"\" )) )"
   ]
  },
  {
   "cell_type": "code",
   "execution_count": 10,
   "metadata": {},
   "outputs": [
    {
     "name": "stderr",
     "output_type": "stream",
     "text": [
      "/tmp/ipykernel_13979/269969775.py:1: FutureWarning: \n",
      "\n",
      "Passing `palette` without assigning `hue` is deprecated and will be removed in v0.14.0. Assign the `x` variable to `hue` and set `legend=False` for the same effect.\n",
      "\n",
      "  sns.boxplot(data['price'], palette=\"hls\")\n"
     ]
    },
    {
     "data": {
      "text/plain": [
       "([0], [Text(0, 0, '')])"
      ]
     },
     "execution_count": 10,
     "metadata": {},
     "output_type": "execute_result"
    },
    {
     "data": {
      "image/png": "[encoded data removed]",
      "text/plain": [
       "<Figure size 640x480 with 1 Axes>"
      ]
     },
     "metadata": {},
     "output_type": "display_data"
    }
   ],
   "source": [
    "sns.boxplot(data['price'], palette=\"hls\")\n",
    "plt.xticks(rotation=45)\n"
   ]
  },
  {
   "cell_type": "code",
   "execution_count": 11,
   "metadata": {},
   "outputs": [
    {
     "data": {
      "text/plain": [
       "{'Dell': 1581,\n",
       " 'HP': 804,\n",
       " 'ROKC': 637,\n",
       " 'MSI': 473,\n",
       " 'Lenovo': 308,\n",
       " 'ASUS': 160,\n",
       " 'DELL': 147,\n",
       " 'acer': 108,\n",
       " 'LG': 39,\n",
       " 'Apple': 29}"
      ]
     },
     "execution_count": 11,
     "metadata": {},
     "output_type": "execute_result"
    }
   ],
   "source": [
    "data.brand.value_counts()[:10].to_dict()"
   ]
  },
  {
   "cell_type": "code",
   "execution_count": 12,
   "metadata": {},
   "outputs": [
    {
     "data": {
      "text/plain": [
       "{'brand': {'Dell': 1581,\n",
       "  'HP': 804,\n",
       "  'ROKC': 637,\n",
       "  'MSI': 473,\n",
       "  'Lenovo': 308,\n",
       "  'ASUS': 160,\n",
       "  'DELL': 147,\n",
       "  'acer': 108,\n",
       "  'LG': 39,\n",
       "  'Apple': 29},\n",
       " 'harddisk': {'1000 GB': 1334,\n",
       "  '512 GB': 747,\n",
       "  '256 GB': 476,\n",
       "  '1 TB': 315,\n",
       "  '64 GB': 194,\n",
       "  '1152 GB': 177,\n",
       "  '2000 GB': 165,\n",
       "  '2 TB': 124,\n",
       "  '128 GB': 114,\n",
       "  '32 GB': 48},\n",
       " 'cpu': {'Core i7': 828,\n",
       "  'Core i5': 605,\n",
       "  'Intel Core i5': 571,\n",
       "  'Intel Core i9': 426,\n",
       "  'Intel Core i7': 395,\n",
       "  'Pentium': 191,\n",
       "  'Pentium N5000': 172,\n",
       "  'Core i7 Family': 172,\n",
       "  'Celeron N4000': 143,\n",
       "  'Core i9': 142},\n",
       " 'ram': {'16 GB': 1344,\n",
       "  '32 GB': 1092,\n",
       "  '8 GB': 791,\n",
       "  '64 GB': 502,\n",
       "  '20 GB': 331,\n",
       "  '4 GB': 216,\n",
       "  '12 GB': 40,\n",
       "  '24 GB': 21,\n",
       "  '40 GB': 13,\n",
       "  '48 GB': 12}}"
      ]
     },
     "execution_count": 12,
     "metadata": {},
     "output_type": "execute_result"
    }
   ],
   "source": [
    "result = {}\n",
    "for cols in [\"brand\" ,\"harddisk\",\"cpu\",\"ram\"] :\n",
    "    result[cols] = data[cols].value_counts()[:10].to_dict()\n",
    "result"
   ]
  },
  {
   "cell_type": "code",
   "execution_count": 17,
   "metadata": {},
   "outputs": [
    {
     "data": {
      "text/plain": [
       "(('Dell',\n",
       "  'HP',\n",
       "  'ROKC',\n",
       "  'MSI',\n",
       "  'Lenovo',\n",
       "  'ASUS',\n",
       "  'DELL',\n",
       "  'acer',\n",
       "  'LG',\n",
       "  'Apple'),\n",
       " (1581, 804, 637, 473, 308, 160, 147, 108, 39, 29))"
      ]
     },
     "execution_count": 17,
     "metadata": {},
     "output_type": "execute_result"
    }
   ],
   "source": [
    "tuple(result[\"brand\"].keys()) , tuple(result[\"brand\"].values())"
   ]
  },
  {
   "cell_type": "code",
   "execution_count": null,
   "metadata": {},
   "outputs": [],
   "source": []
  }
 ],
 "metadata": {
  "kernelspec": {
   "display_name": "venv",
   "language": "python",
   "name": "python3"
  },
  "language_info": {
   "codemirror_mode": {
    "name": "ipython",
    "version": 3
   },
   "file_extension": ".py",
   "mimetype": "text/x-python",
   "name": "python",
   "nbconvert_exporter": "python",
   "pygments_lexer": "ipython3",
   "version": "3.10.12"
  }
 },
 "nbformat": 4,
 "nbformat_minor": 2
}
